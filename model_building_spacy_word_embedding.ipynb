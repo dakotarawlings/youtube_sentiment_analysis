{
 "cells": [
  {
   "cell_type": "code",
   "execution_count": 9,
   "metadata": {},
   "outputs": [],
   "source": [
    "import numpy as np\n",
    "import pandas as pd\n",
    "import sqlite3\n",
    "\n",
    "import matplotlib.pyplot as plt\n",
    "\n",
    "import seaborn as sns\n",
    "from sklearn.model_selection import train_test_split\n",
    "from sklearn.svm import LinearSVC\n",
    "from sklearn.metrics import accuracy_score"
   ]
  },
  {
   "cell_type": "code",
   "execution_count": null,
   "metadata": {},
   "outputs": [],
   "source": [
    "df_raw = pd.read_csv('database/IMDB Dataset.csv')\n",
    "df_raw.head()"
   ]
  },
  {
   "cell_type": "code",
   "execution_count": null,
   "metadata": {},
   "outputs": [],
   "source": [
    "#nlp=spacy.load(r'C:\\Users\\dakot\\anaconda3\\envs\\youtube_nlp\\Lib\\site-packages\\en_core_web_lg\\en_core_web_lg-3.2.0')\n",
    "\n",
    "try:\n",
    "    nlp = spacy.load(\"en_core_web_lg\")\n",
    "except: # If not present, we download\n",
    "    spacy.cli.download(\"en_core_web_lg\")\n",
    "    nlp = spacy.load(\"en_core_web_lg\")"
   ]
  },
  {
   "cell_type": "code",
   "execution_count": null,
   "metadata": {},
   "outputs": [],
   "source": [
    "# We just want the vectors so we can turn off other models in the pipeline\n",
    "with nlp.disable_pipes():\n",
    "    vectors = np.array([nlp(review.review).vector for idx, review in df_raw.iterrows()])\n",
    "    \n",
    "vectors.shape"
   ]
  },
  {
   "cell_type": "code",
   "execution_count": null,
   "metadata": {},
   "outputs": [],
   "source": [
    "#Establish connection to the IMDB DB\n",
    "conn = sqlite3.connect(r\"C:\\Users\\dakot\\Desktop\\DataScience\\projects\\youtube_sentiment_analysis\\IMDB_sentiment_model_building_db.db\")\n",
    "\n",
    "df_raw.to_sql(name=f'raw_data',con=conn,schema='IMDB_sentiment_model_building_db.db',if_exists='replace') \n"
   ]
  },
  {
   "cell_type": "code",
   "execution_count": null,
   "metadata": {},
   "outputs": [],
   "source": [
    "df_vectors.to_sql(name=f'spacy_word_vectors_lg',con=conn,schema='IMDB_sentiment_model_building_db.db',if_exists='replace') \n"
   ]
  },
  {
   "cell_type": "code",
   "execution_count": null,
   "metadata": {},
   "outputs": [],
   "source": [
    "conn = sqlite3.connect(r\"C:\\Users\\dakot\\Desktop\\DataScience\\projects\\youtube_sentiment_analysis\\IMDB_sentiment_model_building_db.db\")\n",
    "\n",
    "df_test = pd.read_sql_query(\"SELECT * FROM spacy_word_vectors_lg\", conn, index_col=None)"
   ]
  },
  {
   "cell_type": "code",
   "execution_count": 12,
   "metadata": {},
   "outputs": [],
   "source": [
    "conn = sqlite3.connect(r\"C:\\Users\\dakot\\Desktop\\DataScience\\projects\\youtube_sentiment_analysis\\IMDB_sentiment_model_building_db.db\")\n",
    "\n",
    "df_vectors = pd.read_sql_query(\"SELECT * FROM spacy_word_vectors_lg\", conn, index_col=None)"
   ]
  },
  {
   "cell_type": "code",
   "execution_count": 13,
   "metadata": {},
   "outputs": [],
   "source": [
    "X=df_vectors.drop(columns=['index','review','sentiment'])\n",
    "y=df_vectors['sentiment']\n",
    "\n",
    "y=pd.get_dummies(y)\n",
    "y=y[['positive']].rename(columns={'positive': 'sentiment'})"
   ]
  },
  {
   "cell_type": "code",
   "execution_count": 14,
   "metadata": {},
   "outputs": [],
   "source": [
    "X_train, X_test, y_train, y_test = train_test_split(X, y,test_size=0.2, random_state=1)"
   ]
  },
  {
   "cell_type": "code",
   "execution_count": 15,
   "metadata": {},
   "outputs": [
    {
     "name": "stderr",
     "output_type": "stream",
     "text": [
      "C:\\Users\\dakot\\anaconda3\\envs\\youtube_nlp\\lib\\site-packages\\sklearn\\utils\\validation.py:993: DataConversionWarning: A column-vector y was passed when a 1d array was expected. Please change the shape of y to (n_samples, ), for example using ravel().\n",
      "  y = column_or_1d(y, warn=True)\n"
     ]
    },
    {
     "name": "stdout",
     "output_type": "stream",
     "text": [
      "Model test accuracy: 86.030%\n"
     ]
    }
   ],
   "source": [
    "model_wordEmbedding_svc=LinearSVC(random_state=1, dual=False)\n",
    "model_wordEmbedding_svc.fit(X_train, y_train)\n",
    "\n",
    "print(f'Model test accuracy: {model_wordEmbedding_svc.score(X_test, y_test)*100:.3f}%')\n",
    "\n"
   ]
  },
  {
   "cell_type": "code",
   "execution_count": 21,
   "metadata": {},
   "outputs": [
    {
     "name": "stdout",
     "output_type": "stream",
     "text": [
      "[[4322  722]\n",
      " [ 675 4281]]\n",
      "Accuracy:  0.8603\n"
     ]
    },
    {
     "data": {
      "text/plain": [
       "Text(0.5, 15.0, 'Predicted Label')"
      ]
     },
     "execution_count": 21,
     "metadata": {},
     "output_type": "execute_result"
    },
    {
     "data": {
      "image/png": "[encoded data removed]",
      "text/plain": [
       "<Figure size 432x288 with 2 Axes>"
      ]
     },
     "metadata": {
      "needs_background": "light"
     },
     "output_type": "display_data"
    }
   ],
   "source": [
    "from sklearn.metrics import confusion_matrix, accuracy_score\n",
    "y_predicted=model_wordEmbedding_svc.predict(X_test)\n",
    "accuracy = accuracy_score(y_test, y_predicted)\n",
    "conMat = confusion_matrix(y_test, y_predicted)\n",
    "print(conMat)\n",
    "print(\"Accuracy: \", accuracy )\n",
    "\n",
    "labels=[\"True Neg\",\"False Pos\",\"False Neg\",\"True Pos\"]\n",
    "group_counts = [f\"{int(value)}\" for value in conMat.flatten()]\n",
    "group_percentages = [f\"{round(percent*100,2)}%\" for percent in conMat.flatten()/np.sum(conMat)]\n",
    "\n",
    "annotations = [f\"{v1}\\n{v2}\\n{v3}\" for v1, v2, v3 in zip(labels, group_counts, group_percentages)]\n",
    "\n",
    "annotations = np.asarray(annotations).reshape(2,2)\n",
    "sns.heatmap(conMat, fmt=\"\", annot=annotations, cmap='Blues')\n",
    "plt.ylabel('True Label')\n",
    "plt.xlabel('Predicted Label')"
   ]
  },
  {
   "cell_type": "code",
   "execution_count": 17,
   "metadata": {},
   "outputs": [],
   "source": [
    "#Serialize our two day model \n",
    "import pickle\n",
    "modelFile = open('model_wordEmbedding_svc.p', 'wb')\n",
    "pickle.dump(model_wordEmbedding_svc, modelFile)                     \n",
    "modelFile.close()"
   ]
  },
  {
   "cell_type": "code",
   "execution_count": 18,
   "metadata": {},
   "outputs": [
    {
     "data": {
      "text/plain": [
       "0.8603"
      ]
     },
     "execution_count": 18,
     "metadata": {},
     "output_type": "execute_result"
    }
   ],
   "source": [
    "#Test our serialized model before deployment\n",
    "modelFile = open('model_wordEmbedding_svc.p', 'rb')     \n",
    "pmodel = pickle.load(modelFile)\n",
    "y_predp=pmodel.predict(X_test)\n",
    "modelFile.close()\n",
    "\n",
    "accuracy_score(y_test, y_predp)"
   ]
  }
 ],
 "metadata": {
  "interpreter": {
   "hash": "95968ccd4fa346aac1dbd311cb5b4a8b572df907d7c6e0f14d362c0ba005ad8d"
  },
  "kernelspec": {
   "display_name": "Python 3.8.13 ('youtube_nlp')",
   "language": "python",
   "name": "python3"
  },
  "language_info": {
   "codemirror_mode": {
    "name": "ipython",
    "version": 3
   },
   "file_extension": ".py",
   "mimetype": "text/x-python",
   "name": "python",
   "nbconvert_exporter": "python",
   "pygments_lexer": "ipython3",
   "version": "3.8.13"
  },
  "orig_nbformat": 4
 },
 "nbformat": 4,
 "nbformat_minor": 2
}
