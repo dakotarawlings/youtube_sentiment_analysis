{
 "cells": [
  {
   "cell_type": "code",
   "execution_count": 1,
   "metadata": {},
   "outputs": [],
   "source": [
    "import numpy as np\n",
    "import pandas as pd\n",
    "import spacy\n",
    "import sqlite3\n",
    "\n",
    "import sklearn\n",
    "from sklearn.model_selection import train_test_split\n",
    "from sklearn.preprocessing import OneHotEncoder\n",
    "from sklearn.svm import LinearSVC\n",
    "from sklearn.metrics import accuracy_score\n",
    "\n",
    "import pickle\n"
   ]
  },
  {
   "cell_type": "code",
   "execution_count": 2,
   "metadata": {},
   "outputs": [],
   "source": [
    "conn = sqlite3.connect(r\"C:\\Users\\dakot\\Desktop\\DataScience\\projects\\youtube_sentiment_analysis\\IMDB_sentiment_model_building_db.db\")\n",
    "\n",
    "df_vectors = pd.read_sql_query(\"SELECT * FROM spacy_word_vectors_md\", conn, index_col=None)"
   ]
  },
  {
   "cell_type": "code",
   "execution_count": 3,
   "metadata": {},
   "outputs": [],
   "source": [
    "X=df_vectors.drop(columns=['index','review','sentiment'])\n",
    "y=df_vectors['sentiment']\n",
    "\n",
    "y=pd.get_dummies(y)\n",
    "y=y[['positive']].rename(columns={'positive': 'sentiment'})\n"
   ]
  },
  {
   "cell_type": "code",
   "execution_count": 4,
   "metadata": {},
   "outputs": [],
   "source": [
    "X_train, X_test, y_train, y_test = train_test_split(X, y,test_size=0.2, random_state=1)"
   ]
  },
  {
   "cell_type": "code",
   "execution_count": 5,
   "metadata": {},
   "outputs": [
    {
     "name": "stderr",
     "output_type": "stream",
     "text": [
      "C:\\Users\\dakot\\anaconda3\\envs\\youtube_nlp\\lib\\site-packages\\sklearn\\utils\\validation.py:993: DataConversionWarning: A column-vector y was passed when a 1d array was expected. Please change the shape of y to (n_samples, ), for example using ravel().\n",
      "  y = column_or_1d(y, warn=True)\n"
     ]
    },
    {
     "name": "stdout",
     "output_type": "stream",
     "text": [
      "Model test accuracy: 85.960%\n"
     ]
    }
   ],
   "source": [
    "model_svc=LinearSVC(random_state=1, dual=False)\n",
    "model_svc.fit(X_train, y_train)\n",
    "\n",
    "print(f'Model test accuracy: {model_svc.score(X_test, y_test)*100:.3f}%')\n",
    "\n"
   ]
  },
  {
   "cell_type": "code",
   "execution_count": 6,
   "metadata": {},
   "outputs": [],
   "source": [
    "#Serialize our two day model \n",
    "import pickle\n",
    "modelFile = open('model_svc.p', 'wb')\n",
    "pickle.dump(model_svc, modelFile)                     \n",
    "modelFile.close()"
   ]
  },
  {
   "cell_type": "code",
   "execution_count": 7,
   "metadata": {},
   "outputs": [
    {
     "data": {
      "text/plain": [
       "0.8596"
      ]
     },
     "execution_count": 7,
     "metadata": {},
     "output_type": "execute_result"
    }
   ],
   "source": [
    "#Test our serialized model before deployment\n",
    "modelFile = open('model_svc.p', 'rb')     \n",
    "pmodel = pickle.load(modelFile)\n",
    "y_predp=pmodel.predict(X_test)\n",
    "modelFile.close()\n",
    "\n",
    "accuracy_score(y_test, y_predp)"
   ]
  }
 ],
 "metadata": {
  "interpreter": {
   "hash": "95968ccd4fa346aac1dbd311cb5b4a8b572df907d7c6e0f14d362c0ba005ad8d"
  },
  "kernelspec": {
   "display_name": "Python 3.8.13 ('youtube_nlp')",
   "language": "python",
   "name": "python3"
  },
  "language_info": {
   "codemirror_mode": {
    "name": "ipython",
    "version": 3
   },
   "file_extension": ".py",
   "mimetype": "text/x-python",
   "name": "python",
   "nbconvert_exporter": "python",
   "pygments_lexer": "ipython3",
   "version": "3.8.13"
  },
  "orig_nbformat": 4
 },
 "nbformat": 4,
 "nbformat_minor": 2
}
