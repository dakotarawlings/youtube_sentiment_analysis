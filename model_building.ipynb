{
 "cells": [
  {
   "cell_type": "code",
   "execution_count": null,
   "metadata": {},
   "outputs": [
    {
     "ename": "",
     "evalue": "",
     "output_type": "error",
     "traceback": [
      "\u001b[1;31mRunning cells with 'Python 3.8.13 ('youtube_nlp')' requires ipykernel package.\n",
      "Run the following command to install 'ipykernel' into the Python environment. \n",
      "Command: 'conda install -n youtube_nlp ipykernel --update-deps --force-reinstall'"
     ]
    }
   ],
   "source": [
    "import numpy as np\n",
    "import pandas as pd\n",
    "import spacy\n",
    "import sqlite3"
   ]
  },
  {
   "cell_type": "code",
   "execution_count": null,
   "metadata": {},
   "outputs": [],
   "source": [
    "conn = sqlite3.connect(r\"C:\\Users\\dakot\\Desktop\\DataScience\\projects\\youtube_sentiment_analysis\\IMDB_sentiment_model_building_db.db\")\n",
    "\n",
    "df_test = pd.read_sql_query(\"SELECT * FROM spacy_word_vectors\", conn, index_col=None)"
   ]
  }
 ],
 "metadata": {
  "interpreter": {
   "hash": "95968ccd4fa346aac1dbd311cb5b4a8b572df907d7c6e0f14d362c0ba005ad8d"
  },
  "kernelspec": {
   "display_name": "Python 3.8.13 ('youtube_nlp')",
   "language": "python",
   "name": "python3"
  },
  "language_info": {
   "name": "python",
   "version": "3.8.13"
  },
  "orig_nbformat": 4
 },
 "nbformat": 4,
 "nbformat_minor": 2
}
