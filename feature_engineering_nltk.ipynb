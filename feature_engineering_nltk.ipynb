{
 "cells": [
  {
   "cell_type": "code",
   "execution_count": 22,
   "metadata": {},
   "outputs": [
    {
     "name": "stderr",
     "output_type": "stream",
     "text": [
      "[nltk_data] Downloading package wordnet to\n",
      "[nltk_data]     C:\\Users\\dakot\\AppData\\Roaming\\nltk_data...\n",
      "[nltk_data]   Package wordnet is already up-to-date!\n",
      "[nltk_data] Downloading package omw-1.4 to\n",
      "[nltk_data]     C:\\Users\\dakot\\AppData\\Roaming\\nltk_data...\n",
      "[nltk_data]   Unzipping corpora\\omw-1.4.zip.\n"
     ]
    }
   ],
   "source": [
    "import numpy as np\n",
    "import pandas as pd\n",
    "import sqlite3\n",
    "\n",
    "import matplotlib as plt\n",
    "\n",
    "import seaborn as sns\n",
    "\n",
    "import regex as re\n",
    "\n",
    "import nltk\n",
    "nltk.download('wordnet')\n",
    "nltk.download('omw-1.4')\n",
    "from nltk.corpus import stopwords\n",
    "from nltk.stem import WordNetLemmatizer\n",
    "\n",
    "from sklearn.feature_extraction.text import CountVectorizer\n",
    "from sklearn.model_selection import GridSearchCV\n",
    "from sklearn.ensemble import RandomForestClassifier\n"
   ]
  },
  {
   "cell_type": "code",
   "execution_count": 23,
   "metadata": {},
   "outputs": [
    {
     "data": {
      "text/html": [
       "<div>\n",
       "<style scoped>\n",
       "    .dataframe tbody tr th:only-of-type {\n",
       "        vertical-align: middle;\n",
       "    }\n",
       "\n",
       "    .dataframe tbody tr th {\n",
       "        vertical-align: top;\n",
       "    }\n",
       "\n",
       "    .dataframe thead th {\n",
       "        text-align: right;\n",
       "    }\n",
       "</style>\n",
       "<table border=\"1\" class=\"dataframe\">\n",
       "  <thead>\n",
       "    <tr style=\"text-align: right;\">\n",
       "      <th></th>\n",
       "      <th>review</th>\n",
       "      <th>sentiment</th>\n",
       "    </tr>\n",
       "  </thead>\n",
       "  <tbody>\n",
       "    <tr>\n",
       "      <th>0</th>\n",
       "      <td>One of the other reviewers has mentioned that ...</td>\n",
       "      <td>positive</td>\n",
       "    </tr>\n",
       "    <tr>\n",
       "      <th>1</th>\n",
       "      <td>A wonderful little production. &lt;br /&gt;&lt;br /&gt;The...</td>\n",
       "      <td>positive</td>\n",
       "    </tr>\n",
       "    <tr>\n",
       "      <th>2</th>\n",
       "      <td>I thought this was a wonderful way to spend ti...</td>\n",
       "      <td>positive</td>\n",
       "    </tr>\n",
       "    <tr>\n",
       "      <th>3</th>\n",
       "      <td>Basically there's a family where a little boy ...</td>\n",
       "      <td>negative</td>\n",
       "    </tr>\n",
       "    <tr>\n",
       "      <th>4</th>\n",
       "      <td>Petter Mattei's \"Love in the Time of Money\" is...</td>\n",
       "      <td>positive</td>\n",
       "    </tr>\n",
       "  </tbody>\n",
       "</table>\n",
       "</div>"
      ],
      "text/plain": [
       "                                              review sentiment\n",
       "0  One of the other reviewers has mentioned that ...  positive\n",
       "1  A wonderful little production. <br /><br />The...  positive\n",
       "2  I thought this was a wonderful way to spend ti...  positive\n",
       "3  Basically there's a family where a little boy ...  negative\n",
       "4  Petter Mattei's \"Love in the Time of Money\" is...  positive"
      ]
     },
     "execution_count": 23,
     "metadata": {},
     "output_type": "execute_result"
    }
   ],
   "source": [
    "df_raw = pd.read_csv('database/IMDB Dataset.csv')\n",
    "df_raw.head()"
   ]
  },
  {
   "cell_type": "code",
   "execution_count": 24,
   "metadata": {},
   "outputs": [
    {
     "name": "stderr",
     "output_type": "stream",
     "text": [
      "C:\\Users\\dakot\\anaconda3\\envs\\youtube_nlp\\lib\\site-packages\\seaborn\\_decorators.py:36: FutureWarning: Pass the following variable as a keyword arg: x. From version 0.12, the only valid positional argument will be `data`, and passing other arguments without an explicit keyword will result in an error or misinterpretation.\n",
      "  warnings.warn(\n"
     ]
    },
    {
     "data": {
      "text/plain": [
       "<AxesSubplot:xlabel='sentiment', ylabel='count'>"
      ]
     },
     "execution_count": 24,
     "metadata": {},
     "output_type": "execute_result"
    },
    {
     "data": {
      "image/png": "[encoded data removed]",
      "text/plain": [
       "<Figure size 432x288 with 1 Axes>"
      ]
     },
     "metadata": {
      "needs_background": "light"
     },
     "output_type": "display_data"
    }
   ],
   "source": [
    "sns.countplot(df_raw.sentiment)"
   ]
  },
  {
   "cell_type": "code",
   "execution_count": 25,
   "metadata": {},
   "outputs": [],
   "source": [
    "lemmatizer=WordNetLemmatizer()\n",
    "\n",
    "def documentProcessor(df_column):\n",
    "    corpus=[]\n",
    "\n",
    "    for document in df_column:\n",
    "        documentProcessed=re.sub('[^a-zA-Z]', ' ', str(document))\n",
    "        documentProcessed=documentProcessed.lower()\n",
    "        documentProcessed=documentProcessed.split()\n",
    "        documentProcessed=[word for word in documentProcessed if word not in set(stopwords.words('english'))]\n",
    "        documentProcessed=[lemmatizer.lemmatize(word) for word in documentProcessed]\n",
    "        corpus.append(' '.join(str(word) for word in documentProcessed))\n",
    "    return corpus\n",
    "\n"
   ]
  },
  {
   "cell_type": "code",
   "execution_count": 27,
   "metadata": {},
   "outputs": [
    {
     "ename": "KeyboardInterrupt",
     "evalue": "",
     "output_type": "error",
     "traceback": [
      "\u001b[1;31m---------------------------------------------------------------------------\u001b[0m",
      "\u001b[1;31mKeyboardInterrupt\u001b[0m                         Traceback (most recent call last)",
      "\u001b[1;32mc:\\Users\\dakot\\Desktop\\DataScience\\projects\\youtube_sentiment_analysis\\feature_engineering_nltk.ipynb Cell 5'\u001b[0m in \u001b[0;36m<cell line: 1>\u001b[1;34m()\u001b[0m\n\u001b[1;32m----> <a href='vscode-notebook-cell:/c%3A/Users/dakot/Desktop/DataScience/projects/youtube_sentiment_analysis/feature_engineering_nltk.ipynb#ch0000004?line=0'>1</a>\u001b[0m corpus\u001b[39m=\u001b[39mdocumentProcessor(df_raw[\u001b[39m'\u001b[39;49m\u001b[39mreview\u001b[39;49m\u001b[39m'\u001b[39;49m])\n",
      "\u001b[1;32mc:\\Users\\dakot\\Desktop\\DataScience\\projects\\youtube_sentiment_analysis\\feature_engineering_nltk.ipynb Cell 4'\u001b[0m in \u001b[0;36mdocumentProcessor\u001b[1;34m(df_column)\u001b[0m\n\u001b[0;32m      <a href='vscode-notebook-cell:/c%3A/Users/dakot/Desktop/DataScience/projects/youtube_sentiment_analysis/feature_engineering_nltk.ipynb#ch0000003?line=7'>8</a>\u001b[0m documentProcessed\u001b[39m=\u001b[39mdocumentProcessed\u001b[39m.\u001b[39mlower()\n\u001b[0;32m      <a href='vscode-notebook-cell:/c%3A/Users/dakot/Desktop/DataScience/projects/youtube_sentiment_analysis/feature_engineering_nltk.ipynb#ch0000003?line=8'>9</a>\u001b[0m documentProcessed\u001b[39m=\u001b[39mdocumentProcessed\u001b[39m.\u001b[39msplit()\n\u001b[1;32m---> <a href='vscode-notebook-cell:/c%3A/Users/dakot/Desktop/DataScience/projects/youtube_sentiment_analysis/feature_engineering_nltk.ipynb#ch0000003?line=9'>10</a>\u001b[0m documentProcessed\u001b[39m=\u001b[39m[word \u001b[39mfor\u001b[39;00m word \u001b[39min\u001b[39;00m documentProcessed \u001b[39mif\u001b[39;00m word \u001b[39mnot\u001b[39;00m \u001b[39min\u001b[39;00m \u001b[39mset\u001b[39m(stopwords\u001b[39m.\u001b[39mwords(\u001b[39m'\u001b[39m\u001b[39menglish\u001b[39m\u001b[39m'\u001b[39m))]\n\u001b[0;32m     <a href='vscode-notebook-cell:/c%3A/Users/dakot/Desktop/DataScience/projects/youtube_sentiment_analysis/feature_engineering_nltk.ipynb#ch0000003?line=10'>11</a>\u001b[0m documentProcessed\u001b[39m=\u001b[39m[lemmatizer\u001b[39m.\u001b[39mlemmatize(word) \u001b[39mfor\u001b[39;00m word \u001b[39min\u001b[39;00m documentProcessed]\n\u001b[0;32m     <a href='vscode-notebook-cell:/c%3A/Users/dakot/Desktop/DataScience/projects/youtube_sentiment_analysis/feature_engineering_nltk.ipynb#ch0000003?line=11'>12</a>\u001b[0m corpus\u001b[39m.\u001b[39mappend(\u001b[39m'\u001b[39m\u001b[39m \u001b[39m\u001b[39m'\u001b[39m\u001b[39m.\u001b[39mjoin(\u001b[39mstr\u001b[39m(word) \u001b[39mfor\u001b[39;00m word \u001b[39min\u001b[39;00m documentProcessed))\n",
      "\u001b[1;32mc:\\Users\\dakot\\Desktop\\DataScience\\projects\\youtube_sentiment_analysis\\feature_engineering_nltk.ipynb Cell 4'\u001b[0m in \u001b[0;36m<listcomp>\u001b[1;34m(.0)\u001b[0m\n\u001b[0;32m      <a href='vscode-notebook-cell:/c%3A/Users/dakot/Desktop/DataScience/projects/youtube_sentiment_analysis/feature_engineering_nltk.ipynb#ch0000003?line=7'>8</a>\u001b[0m documentProcessed\u001b[39m=\u001b[39mdocumentProcessed\u001b[39m.\u001b[39mlower()\n\u001b[0;32m      <a href='vscode-notebook-cell:/c%3A/Users/dakot/Desktop/DataScience/projects/youtube_sentiment_analysis/feature_engineering_nltk.ipynb#ch0000003?line=8'>9</a>\u001b[0m documentProcessed\u001b[39m=\u001b[39mdocumentProcessed\u001b[39m.\u001b[39msplit()\n\u001b[1;32m---> <a href='vscode-notebook-cell:/c%3A/Users/dakot/Desktop/DataScience/projects/youtube_sentiment_analysis/feature_engineering_nltk.ipynb#ch0000003?line=9'>10</a>\u001b[0m documentProcessed\u001b[39m=\u001b[39m[word \u001b[39mfor\u001b[39;00m word \u001b[39min\u001b[39;00m documentProcessed \u001b[39mif\u001b[39;00m word \u001b[39mnot\u001b[39;00m \u001b[39min\u001b[39;00m \u001b[39mset\u001b[39m(stopwords\u001b[39m.\u001b[39;49mwords(\u001b[39m'\u001b[39;49m\u001b[39menglish\u001b[39;49m\u001b[39m'\u001b[39;49m))]\n\u001b[0;32m     <a href='vscode-notebook-cell:/c%3A/Users/dakot/Desktop/DataScience/projects/youtube_sentiment_analysis/feature_engineering_nltk.ipynb#ch0000003?line=10'>11</a>\u001b[0m documentProcessed\u001b[39m=\u001b[39m[lemmatizer\u001b[39m.\u001b[39mlemmatize(word) \u001b[39mfor\u001b[39;00m word \u001b[39min\u001b[39;00m documentProcessed]\n\u001b[0;32m     <a href='vscode-notebook-cell:/c%3A/Users/dakot/Desktop/DataScience/projects/youtube_sentiment_analysis/feature_engineering_nltk.ipynb#ch0000003?line=11'>12</a>\u001b[0m corpus\u001b[39m.\u001b[39mappend(\u001b[39m'\u001b[39m\u001b[39m \u001b[39m\u001b[39m'\u001b[39m\u001b[39m.\u001b[39mjoin(\u001b[39mstr\u001b[39m(word) \u001b[39mfor\u001b[39;00m word \u001b[39min\u001b[39;00m documentProcessed))\n",
      "File \u001b[1;32m~\\anaconda3\\envs\\youtube_nlp\\lib\\site-packages\\nltk\\corpus\\reader\\wordlist.py:21\u001b[0m, in \u001b[0;36mWordListCorpusReader.words\u001b[1;34m(self, fileids, ignore_lines_startswith)\u001b[0m\n\u001b[0;32m     <a href='file:///c%3A/Users/dakot/anaconda3/envs/youtube_nlp/lib/site-packages/nltk/corpus/reader/wordlist.py?line=17'>18</a>\u001b[0m \u001b[39mdef\u001b[39;00m \u001b[39mwords\u001b[39m(\u001b[39mself\u001b[39m, fileids\u001b[39m=\u001b[39m\u001b[39mNone\u001b[39;00m, ignore_lines_startswith\u001b[39m=\u001b[39m\u001b[39m\"\u001b[39m\u001b[39m\\n\u001b[39;00m\u001b[39m\"\u001b[39m):\n\u001b[0;32m     <a href='file:///c%3A/Users/dakot/anaconda3/envs/youtube_nlp/lib/site-packages/nltk/corpus/reader/wordlist.py?line=18'>19</a>\u001b[0m     \u001b[39mreturn\u001b[39;00m [\n\u001b[0;32m     <a href='file:///c%3A/Users/dakot/anaconda3/envs/youtube_nlp/lib/site-packages/nltk/corpus/reader/wordlist.py?line=19'>20</a>\u001b[0m         line\n\u001b[1;32m---> <a href='file:///c%3A/Users/dakot/anaconda3/envs/youtube_nlp/lib/site-packages/nltk/corpus/reader/wordlist.py?line=20'>21</a>\u001b[0m         \u001b[39mfor\u001b[39;00m line \u001b[39min\u001b[39;00m line_tokenize(\u001b[39mself\u001b[39;49m\u001b[39m.\u001b[39;49mraw(fileids))\n\u001b[0;32m     <a href='file:///c%3A/Users/dakot/anaconda3/envs/youtube_nlp/lib/site-packages/nltk/corpus/reader/wordlist.py?line=21'>22</a>\u001b[0m         \u001b[39mif\u001b[39;00m \u001b[39mnot\u001b[39;00m line\u001b[39m.\u001b[39mstartswith(ignore_lines_startswith)\n\u001b[0;32m     <a href='file:///c%3A/Users/dakot/anaconda3/envs/youtube_nlp/lib/site-packages/nltk/corpus/reader/wordlist.py?line=22'>23</a>\u001b[0m     ]\n",
      "File \u001b[1;32m~\\anaconda3\\envs\\youtube_nlp\\lib\\site-packages\\nltk\\corpus\\reader\\api.py:218\u001b[0m, in \u001b[0;36mCorpusReader.raw\u001b[1;34m(self, fileids)\u001b[0m\n\u001b[0;32m    <a href='file:///c%3A/Users/dakot/anaconda3/envs/youtube_nlp/lib/site-packages/nltk/corpus/reader/api.py?line=215'>216</a>\u001b[0m contents \u001b[39m=\u001b[39m []\n\u001b[0;32m    <a href='file:///c%3A/Users/dakot/anaconda3/envs/youtube_nlp/lib/site-packages/nltk/corpus/reader/api.py?line=216'>217</a>\u001b[0m \u001b[39mfor\u001b[39;00m f \u001b[39min\u001b[39;00m fileids:\n\u001b[1;32m--> <a href='file:///c%3A/Users/dakot/anaconda3/envs/youtube_nlp/lib/site-packages/nltk/corpus/reader/api.py?line=217'>218</a>\u001b[0m     \u001b[39mwith\u001b[39;00m \u001b[39mself\u001b[39;49m\u001b[39m.\u001b[39;49mopen(f) \u001b[39mas\u001b[39;00m fp:\n\u001b[0;32m    <a href='file:///c%3A/Users/dakot/anaconda3/envs/youtube_nlp/lib/site-packages/nltk/corpus/reader/api.py?line=218'>219</a>\u001b[0m         contents\u001b[39m.\u001b[39mappend(fp\u001b[39m.\u001b[39mread())\n\u001b[0;32m    <a href='file:///c%3A/Users/dakot/anaconda3/envs/youtube_nlp/lib/site-packages/nltk/corpus/reader/api.py?line=219'>220</a>\u001b[0m \u001b[39mreturn\u001b[39;00m concat(contents)\n",
      "File \u001b[1;32m~\\anaconda3\\envs\\youtube_nlp\\lib\\site-packages\\nltk\\corpus\\reader\\api.py:231\u001b[0m, in \u001b[0;36mCorpusReader.open\u001b[1;34m(self, file)\u001b[0m\n\u001b[0;32m    <a href='file:///c%3A/Users/dakot/anaconda3/envs/youtube_nlp/lib/site-packages/nltk/corpus/reader/api.py?line=222'>223</a>\u001b[0m \u001b[39m\"\"\"\u001b[39;00m\n\u001b[0;32m    <a href='file:///c%3A/Users/dakot/anaconda3/envs/youtube_nlp/lib/site-packages/nltk/corpus/reader/api.py?line=223'>224</a>\u001b[0m \u001b[39mReturn an open stream that can be used to read the given file.\u001b[39;00m\n\u001b[0;32m    <a href='file:///c%3A/Users/dakot/anaconda3/envs/youtube_nlp/lib/site-packages/nltk/corpus/reader/api.py?line=224'>225</a>\u001b[0m \u001b[39mIf the file's encoding is not None, then the stream will\u001b[39;00m\n\u001b[1;32m   (...)\u001b[0m\n\u001b[0;32m    <a href='file:///c%3A/Users/dakot/anaconda3/envs/youtube_nlp/lib/site-packages/nltk/corpus/reader/api.py?line=227'>228</a>\u001b[0m \u001b[39m:param file: The file identifier of the file to read.\u001b[39;00m\n\u001b[0;32m    <a href='file:///c%3A/Users/dakot/anaconda3/envs/youtube_nlp/lib/site-packages/nltk/corpus/reader/api.py?line=228'>229</a>\u001b[0m \u001b[39m\"\"\"\u001b[39;00m\n\u001b[0;32m    <a href='file:///c%3A/Users/dakot/anaconda3/envs/youtube_nlp/lib/site-packages/nltk/corpus/reader/api.py?line=229'>230</a>\u001b[0m encoding \u001b[39m=\u001b[39m \u001b[39mself\u001b[39m\u001b[39m.\u001b[39mencoding(file)\n\u001b[1;32m--> <a href='file:///c%3A/Users/dakot/anaconda3/envs/youtube_nlp/lib/site-packages/nltk/corpus/reader/api.py?line=230'>231</a>\u001b[0m stream \u001b[39m=\u001b[39m \u001b[39mself\u001b[39;49m\u001b[39m.\u001b[39;49m_root\u001b[39m.\u001b[39;49mjoin(file)\u001b[39m.\u001b[39;49mopen(encoding)\n\u001b[0;32m    <a href='file:///c%3A/Users/dakot/anaconda3/envs/youtube_nlp/lib/site-packages/nltk/corpus/reader/api.py?line=231'>232</a>\u001b[0m \u001b[39mreturn\u001b[39;00m stream\n",
      "File \u001b[1;32m~\\anaconda3\\envs\\youtube_nlp\\lib\\site-packages\\nltk\\data.py:324\u001b[0m, in \u001b[0;36mFileSystemPathPointer.open\u001b[1;34m(self, encoding)\u001b[0m\n\u001b[0;32m    <a href='file:///c%3A/Users/dakot/anaconda3/envs/youtube_nlp/lib/site-packages/nltk/data.py?line=322'>323</a>\u001b[0m \u001b[39mdef\u001b[39;00m \u001b[39mopen\u001b[39m(\u001b[39mself\u001b[39m, encoding\u001b[39m=\u001b[39m\u001b[39mNone\u001b[39;00m):\n\u001b[1;32m--> <a href='file:///c%3A/Users/dakot/anaconda3/envs/youtube_nlp/lib/site-packages/nltk/data.py?line=323'>324</a>\u001b[0m     stream \u001b[39m=\u001b[39m \u001b[39mopen\u001b[39;49m(\u001b[39mself\u001b[39;49m\u001b[39m.\u001b[39;49m_path, \u001b[39m\"\u001b[39;49m\u001b[39mrb\u001b[39;49m\u001b[39m\"\u001b[39;49m)\n\u001b[0;32m    <a href='file:///c%3A/Users/dakot/anaconda3/envs/youtube_nlp/lib/site-packages/nltk/data.py?line=324'>325</a>\u001b[0m     \u001b[39mif\u001b[39;00m encoding \u001b[39mis\u001b[39;00m \u001b[39mnot\u001b[39;00m \u001b[39mNone\u001b[39;00m:\n\u001b[0;32m    <a href='file:///c%3A/Users/dakot/anaconda3/envs/youtube_nlp/lib/site-packages/nltk/data.py?line=325'>326</a>\u001b[0m         stream \u001b[39m=\u001b[39m SeekableUnicodeStreamReader(stream, encoding)\n",
      "\u001b[1;31mKeyboardInterrupt\u001b[0m: "
     ]
    }
   ],
   "source": [
    "corpus=documentProcessor(df_raw['review'])"
   ]
  },
  {
   "cell_type": "code",
   "execution_count": null,
   "metadata": {},
   "outputs": [],
   "source": [
    "#construct a wordcloud to visualize the distribution of descriptor words in the \"description\" feature. This is used create new\n",
    "#features in the data cleaning script\n",
    "\n",
    "from wordcloud import WordCloud, ImageColorGenerator, STOPWORDS\n",
    "\n",
    "import nltk\n",
    "nltk.download('stopwords')\n",
    "nltk.download('punkt')\n",
    "from nltk.corpus import stopwords\n",
    "from nltk.tokenize import word_tokenize\n",
    "\n",
    "#add words from the home description feature to the list of words to be used in the cloud\n",
    "words=\" \".join(corpus)\n",
    "\n",
    "#define stop/break words for word cloud function\n",
    "def punctuation_stop(text):\n",
    "    filtered=[]\n",
    "    stop_words=set(stopwords.words(\"english\"))\n",
    "    word_tokens=word_tokenize(text)\n",
    "    for w in word_tokens:\n",
    "        if w not in stop_words and w.isalpha():\n",
    "            filtered.append(w.lower())\n",
    "    return filtered\n",
    "words_filtered=punctuation_stop(words)\n",
    "\n",
    "#Define words that should not be included in the word cloud\n",
    "unwanted=[]\n",
    "\n",
    "text=\" \".join([ele for ele in words_filtered if ele not in unwanted])\n",
    "\n",
    "#call word cloud function and generate plot\n",
    "wc=WordCloud(background_color=\"white\", stopwords=STOPWORDS, max_words=2000, width=800,height=1500)\n",
    "wc.generate(text)\n",
    "\n",
    "plt.figure(figsize=[10,10])\n",
    "plt.imshow(wc, interpolation=\"bilinear\")\n",
    "plt.axis('off')\n",
    "plt.show()"
   ]
  },
  {
   "cell_type": "code",
   "execution_count": null,
   "metadata": {},
   "outputs": [],
   "source": [
    "ctVectorizer=CountVectorizer(ngram_range=(1,2))\n",
    "vectorizedData=ctVectorizer.fit_transform(corpus)\n",
    "\n"
   ]
  },
  {
   "cell_type": "code",
   "execution_count": null,
   "metadata": {},
   "outputs": [],
   "source": [
    "#Random Forest Model\n",
    "\n",
    "parameters= {\n",
    "    'max_features': ('auto','sqrt'),\n",
    "    'n_estimators':[500, 1000, 1500],\n",
    "    'max_depth':[5,10,None],\n",
    "    'min_samples_split':[5,10,15],\n",
    "    'min_samples_leaf':[1,2,5,10],\n",
    "    'bootstrap':[True, False]\n",
    "}\n",
    "\n",
    "grid_search=GridSearchCV(RandomForestClassifier(), parameters, cv=5, return_train_score=True, n_jobs=-1)\n",
    "grid_search.fit(X,y)\n",
    "grid_search.best_params\n"
   ]
  },
  {
   "cell_type": "code",
   "execution_count": null,
   "metadata": {},
   "outputs": [],
   "source": []
  }
 ],
 "metadata": {
  "interpreter": {
   "hash": "95968ccd4fa346aac1dbd311cb5b4a8b572df907d7c6e0f14d362c0ba005ad8d"
  },
  "kernelspec": {
   "display_name": "Python 3.8.13 ('youtube_nlp')",
   "language": "python",
   "name": "python3"
  },
  "language_info": {
   "codemirror_mode": {
    "name": "ipython",
    "version": 3
   },
   "file_extension": ".py",
   "mimetype": "text/x-python",
   "name": "python",
   "nbconvert_exporter": "python",
   "pygments_lexer": "ipython3",
   "version": "3.8.13"
  },
  "orig_nbformat": 4
 },
 "nbformat": 4,
 "nbformat_minor": 2
}
